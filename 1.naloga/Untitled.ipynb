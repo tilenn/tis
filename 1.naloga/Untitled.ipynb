{
 "cells": [
  {
   "cell_type": "code",
   "execution_count": 61,
   "id": "a7589e5b",
   "metadata": {},
   "outputs": [
    {
     "name": "stdout",
     "output_type": "stream",
     "text": [
      "ABBABC\n"
     ]
    }
   ],
   "source": [
    "besedilo = \"AbB,a.bC\"\n",
    "besedilo = \"\".join([i for i in besedilo if i.isalpha()]).upper()\n",
    "print(besedilo)"
   ]
  },
  {
   "cell_type": "code",
   "execution_count": 62,
   "id": "b02fc1b9",
   "metadata": {},
   "outputs": [
    {
     "name": "stdout",
     "output_type": "stream",
     "text": [
      "Counter({'B': 3, 'A': 2, 'C': 1})\n"
     ]
    }
   ],
   "source": [
    "import collections\n",
    "counter_za_znake = collections.Counter(besedilo)\n",
    "print(counter_za_znake)"
   ]
  },
  {
   "cell_type": "code",
   "execution_count": 63,
   "id": "ba291680",
   "metadata": {},
   "outputs": [
    {
     "name": "stdout",
     "output_type": "stream",
     "text": [
      "1.4591479170272448\n"
     ]
    }
   ],
   "source": [
    "from math import log2\n",
    "str_len = len(besedilo)\n",
    "H = 0\n",
    "\n",
    "for letter, val in counter_za_znake.items():\n",
    "    H -= (val / str_len) * log2(val / str_len)\n",
    "print(H)"
   ]
  },
  {
   "cell_type": "code",
   "execution_count": 88,
   "id": "8bf4ace6",
   "metadata": {},
   "outputs": [
    {
     "name": "stdout",
     "output_type": "stream",
     "text": [
      "0.4627801778601175\n"
     ]
    }
   ],
   "source": [
    "dvojcki = collections.defaultdict(int)\n",
    "for i, j in zip(besedilo, besedilo[1:]):\n",
    "    dvojcki[i+j] += 1\n",
    "    \n",
    "\n",
    "st_vseh_dvojckov = sum(dvojcki.values())\n",
    "H2 = 0\n",
    "for key, val in dvojcki.items():\n",
    "    H2 += (val/st_vseh_dvojckov) * log2(st_vseh_dvojckov/val)\n",
    "print(H2 - H)"
   ]
  },
  {
   "cell_type": "code",
   "execution_count": 90,
   "id": "cdab3683",
   "metadata": {},
   "outputs": [
    {
     "name": "stdout",
     "output_type": "stream",
     "text": [
      "0.5408520829727552\n"
     ]
    }
   ],
   "source": [
    "trojcki = collections.defaultdict(int)\n",
    "for i, j, k in zip(besedilo, besedilo[1:], besedilo[2:]):\n",
    "    trojcki[i+j+k] += 1\n",
    "    \n",
    "st_vseh_trojckov = sum(trojcki.values())\n",
    "H3 = 0\n",
    "for key, val in trojcki.items():\n",
    "    H3 += (val/st_vseh_trojckov) * log2(st_vseh_trojckov/val)\n",
    "print(H3 - H)"
   ]
  },
  {
   "cell_type": "code",
   "execution_count": null,
   "id": "4d8c9f26",
   "metadata": {},
   "outputs": [],
   "source": []
  }
 ],
 "metadata": {
  "kernelspec": {
   "display_name": "Python 3 (ipykernel)",
   "language": "python",
   "name": "python3"
  },
  "language_info": {
   "codemirror_mode": {
    "name": "ipython",
    "version": 3
   },
   "file_extension": ".py",
   "mimetype": "text/x-python",
   "name": "python",
   "nbconvert_exporter": "python",
   "pygments_lexer": "ipython3",
   "version": "3.10.2"
  }
 },
 "nbformat": 4,
 "nbformat_minor": 5
}
