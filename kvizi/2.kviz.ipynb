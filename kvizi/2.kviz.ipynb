{
 "cells": [
  {
   "cell_type": "code",
   "execution_count": 29,
   "id": "d175881b",
   "metadata": {},
   "outputs": [
    {
     "name": "stdout",
     "output_type": "stream",
     "text": [
      "0 : 1.00390625\n",
      "1 : 1.0\n",
      "2 : 1.09375\n",
      "3 : 1.0\n"
     ]
    }
   ],
   "source": [
    "# 2.kviz 1.naloga\n",
    "# za vsak kod izracumo sum 2^-len in ce je <= 1 je trenuten kod\n",
    "kodi_len = [\n",
    "    [1,2,3,3,8],\n",
    "    [2,2,2,3,3],\n",
    "    [1,2,2,4,5],\n",
    "    [1,2,3,4,4]\n",
    "]\n",
    "for i, kod in enumerate(kodi_len):\n",
    "    tmp = 0\n",
    "    for dolzina in kod:\n",
    "        tmp += 2**(-dolzina)\n",
    "    print(i, \":\", tmp)"
   ]
  },
  {
   "cell_type": "code",
   "execution_count": 30,
   "id": "99ff9225",
   "metadata": {},
   "outputs": [
    {
     "name": "stdout",
     "output_type": "stream",
     "text": [
      "Povprecna dolzina: 1.75\n",
      "Entropija: 1.75\n",
      "Drzi\n"
     ]
    }
   ],
   "source": [
    "# 2. naloga\n",
    "# kod je idealen, ce je povprecna dolzina kodnih zamenjav enaka entropijiabs\n",
    "\n",
    "from math import log2, ceil\n",
    "verjetnosti = [0.5, 0.25, 0.125, 0.125]\n",
    "st_znakov = [ceil(-log2(p)) for p in verjetnosti]\n",
    "# print(st_znakov)\n",
    "povprecna_dolzina = sum([p * v for p,v in zip(verjetnosti, st_znakov)])\n",
    "print(\"Povprecna dolzina:\", povprecna_dolzina)\n",
    "\n",
    "entropija = sum([p * log2(1/p) for p in verjetnosti])\n",
    "print(\"Entropija:\", entropija)\n",
    "\n",
    "if entropija == povprecna_dolzina:\n",
    "    print(\"Drzi\")\n",
    "else:\n",
    "    print(\"Ne drzi\")"
   ]
  },
  {
   "cell_type": "code",
   "execution_count": 31,
   "id": "769cdbd3",
   "metadata": {},
   "outputs": [
    {
     "name": "stdout",
     "output_type": "stream",
     "text": [
      "Kod ni trenuten => 001 0010\n"
     ]
    }
   ],
   "source": [
    "# 3.naloga\n",
    "# ne drzi saj 001 je predpona 0010\n",
    "kodne_zamenjave = [\"1\", \"01\", \"001\", \"0010\", \"0000\"]\n",
    "flag = False\n",
    "for x in kodne_zamenjave:\n",
    "    for y in kodne_zamenjave:\n",
    "        if y != x and y.startswith(x):\n",
    "            print(\"Kod ni trenuten =>\", x, y)\n",
    "            flag = True\n",
    "    if flag:\n",
    "        break\n",
    "else:\n",
    "    print(\"Kod je trenuten\")"
   ]
  },
  {
   "cell_type": "code",
   "execution_count": 25,
   "id": "f4b542a6",
   "metadata": {},
   "outputs": [
    {
     "name": "stdout",
     "output_type": "stream",
     "text": [
      "povprecna dolzina je: 2.952\n"
     ]
    }
   ],
   "source": [
    "# 4.naloga\n",
    "# v dolgem nize je 80% nicel in 20% enic\n",
    "znaki = [\"0\", \"1\", \"2\", \"3\", \"4\"]\n",
    "abeceda = [\"0\", \"1\"]\n",
    "kodne_zamenjave = [\"1\", \"01\", \"001\", \"0001\", \"0000\"]\n",
    "len_kodne_zamenjave = [len(x) for x in kodne_zamenjave]\n",
    "\n",
    "odgovor = (1 * 0.2) + (2 * 0.8 * 0.2) + (3 * 0.8**2 * 0.2) + (4 * 0.8**3 * 0.2) + 4 * (0.8**4)\n",
    "print(\"povprecna dolzina je:\", round(odgovor, 3))\n"
   ]
  }
 ],
 "metadata": {
  "kernelspec": {
   "display_name": "Python 3 (ipykernel)",
   "language": "python",
   "name": "python3"
  },
  "language_info": {
   "codemirror_mode": {
    "name": "ipython",
    "version": 3
   },
   "file_extension": ".py",
   "mimetype": "text/x-python",
   "name": "python",
   "nbconvert_exporter": "python",
   "pygments_lexer": "ipython3",
   "version": "3.10.2"
  }
 },
 "nbformat": 4,
 "nbformat_minor": 5
}
